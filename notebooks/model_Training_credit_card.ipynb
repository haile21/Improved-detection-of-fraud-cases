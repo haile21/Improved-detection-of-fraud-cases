{
 "cells": [
  {
   "cell_type": "code",
   "execution_count": null,
   "id": "initial_id",
   "metadata": {
    "collapsed": true
   },
   "outputs": [],
   "source": [
    "# Importing necessary lebraries\n",
    "import numpy as np\n",
    "import pandas as pd\n",
    "import os\n",
    "import sys\n",
    "import matplotlib.pyplot as pl\n",
    "import joblib\n",
    "import seaborn as se\n",
    "from imblearn.over_sampling import SMOTE\n",
    "from imblearn.under_sampling import RandomUnderSampler\n",
    "from collections import Counter\n",
    "from sklearn.linear_model import LogisticRegression\n",
    "from sklearn.metrics import classification_report\n",
    "import mlflow\n",
    "from sklearn.tree import DecisionTreeClassifier\n",
    "from sklearn.ensemble import RandomForestClassifier\n",
    "from sklearn.ensemble import GradientBoostingClassifier\n",
    "from sklearn.neural_network import MLPClassifier"
   ]
  },
  {
   "metadata": {},
   "cell_type": "code",
   "outputs": [],
   "execution_count": null,
   "source": [
    "sys.path.append(os.path.join(os.path.abspath('..')))\n",
    "# Import modules\n",
    "from src import data_loading as dl"
   ],
   "id": "645401610ed43deb"
  },
  {
   "metadata": {},
   "cell_type": "code",
   "outputs": [],
   "execution_count": null,
   "source": [
    "sys.path.append(os.path.abspath(\"../\"))\n",
    "\n",
    "\n",
    "from scripts.model import prepare_data, split_data\n",
    "\n",
    "from scripts.logger import logger "
   ],
   "id": "5b9a51e9577db781"
  },
  {
   "metadata": {},
   "cell_type": "code",
   "outputs": [],
   "execution_count": null,
   "source": [
    "credit = dl.load_data(\"creditcard.csv\")\n",
    "# Remove duplicates\n",
    "credit = credit.drop_duplicates()\n",
    "credit[\"Class\"] = credit[\"Class\"].astype(bool)"
   ],
   "id": "f6471f045836e85a"
  },
  {
   "metadata": {},
   "cell_type": "code",
   "outputs": [],
   "execution_count": null,
   "source": "credit.head()\n",
   "id": "1ad8383f572e55b"
  },
  {
   "metadata": {},
   "cell_type": "code",
   "outputs": [],
   "execution_count": null,
   "source": [
    "print('No frauds', round(credit['Class'].value_counts().iloc[0] / len(credit) * 100, 2), '% of the dataset')\n",
    "print('Frauds', round(credit['Class'].value_counts().iloc[1] / len(credit) * 100, 2), '% of the dataset')\n",
    "\n",
    "non_fraud_sum = credit[credit['Class'] == 0].value_counts().sum()\n",
    "print('Non fraud', non_fraud_sum)\n",
    "\n",
    "fraud_sum = credit[credit['Class'] == 1].value_counts().sum()\n",
    "print('Fraud', fraud_sum)"
   ],
   "id": "b22a33c38161eede"
  },
  {
   "metadata": {},
   "cell_type": "code",
   "outputs": [],
   "execution_count": null,
   "source": [
    "se.countplot(data=credit, x='Class', hue='Class', palette='viridis')\n",
    "pl.legend(title='Class', labels=['Non-Fraud', 'Fraud'], loc='best')\n",
    "pl.title('Distribution of Fraud and Non-Fraud Transactions')\n",
    "pl.show()"
   ],
   "id": "e5dbd175709c2fbe"
  },
  {
   "metadata": {},
   "cell_type": "code",
   "outputs": [],
   "execution_count": null,
   "source": [
    "# to match the number of instances in the minority class.\n",
    "\n",
    "# Randomly shuffle the entire dataset to ensure randomness\n",
    "df = credit.sample(frac=1, random_state=42).reset_index(drop=True)\n",
    "\n",
    "# Isolate the minority class (fraud) with 473 instances\n",
    "minority_class = df.loc[df['Class'] == 1]\n",
    "\n",
    "# Select a random subset of the majority class (non-fraud) with the same number of instances as the minority class\n",
    "majority_class_subset = df.loc[df['Class'] == 0].sample(n=473, random_state=42)\n",
    "\n",
    "# Combine the minority class and the majority class subset to create a balanced dataset\n",
    "balanced_df = pd.concat([minority_class, majority_class_subset])\n",
    "\n",
    "# Shuffle the balanced dataset to ensure randomness\n",
    "balanced_df = balanced_df.sample(frac=1, random_state=42).reset_index(drop=True)\n",
    "\n",
    "# Verify the first few rows of the balanced dataset\n",
    "balanced_df.head()"
   ],
   "id": "118ebcc0da23ffff"
  },
  {
   "metadata": {},
   "cell_type": "code",
   "outputs": [],
   "execution_count": null,
   "source": [
    "se.countplot(data=balanced_df, x='Class', hue='Class', palette='viridis')\n",
    "pl.legend(title='Class', labels=['Non-Fraud', 'Fraud'], loc='best')\n",
    "pl.title('Distribution of Fraud and Non-Fraud Transactions')\n",
    "pl.show()"
   ],
   "id": "9fe1ef1f068151fd"
  },
  {
   "metadata": {},
   "cell_type": "code",
   "outputs": [],
   "execution_count": null,
   "source": "X_credit, y_credit = prepare_data(balanced_df, 'Class')\n",
   "id": "d938171b7e623829"
  },
  {
   "metadata": {},
   "cell_type": "code",
   "outputs": [],
   "execution_count": null,
   "source": [
    "from imblearn.over_sampling import SMOTE\n",
    "from imblearn.under_sampling import RandomUnderSampler\n",
    "from collections import Counter\n",
    "\n",
    "# Convert the target variable to integer\n",
    "credit['Class'] = credit['Class'].astype(int)\n",
    "\n",
    "# Define the resampling strategies\n",
    "over = SMOTE(sampling_strategy=0.5)\n",
    "under = RandomUnderSampler(sampling_strategy=0.1)\n",
    "\n",
    "# Split data into features (X) and target (y)\n",
    "X = credit.iloc[:, :-1].values  # Assuming 'Class' is the last column\n",
    "y = credit['Class'].values\n",
    "\n",
    "# Apply under-sampling first\n",
    "X_under, y_under = under.fit_resample(X, y)\n",
    "\n",
    "# Apply over-sampling on the under-sampled data\n",
    "X_resampled, y_resampled = over.fit_resample(X_under, y_under)\n",
    "\n",
    "# Now you can use the resampled data for further processing\n",
    "print(Counter(y_resampled))"
   ],
   "id": "a4ba58ac2b28ac68"
  },
  {
   "metadata": {},
   "cell_type": "code",
   "outputs": [],
   "execution_count": null,
   "source": [
    "#  Train-Test Split\n",
    "X_train, X_test, y_train, y_test = split_data(X_resampled, y_resampled, test_size=0.2, random_state=42)"
   ],
   "id": "bcde2a05de18850c"
  },
  {
   "metadata": {},
   "cell_type": "code",
   "outputs": [],
   "execution_count": null,
   "source": [
    "# Train and evaluate Logistic Regression model for creditcard.csv\n",
    "with mlflow.start_run(run_name=\"Logistic Regression - Fraud Data\"):\n",
    "    logistic_model = LogisticRegression(max_iter=1000, solver='lbfgs', class_weight='balanced')  # Increased max_iter & balanced class weights\n",
    "    \n",
    "    # Ensure feature data is in float64 to avoid MLflow warnings\n",
    "    X_train = X_train.astype('float64')\n",
    "    X_test = X_test.astype('float64')\n",
    "\n",
    "    logistic_model.fit(X_train, y_train)  # Train the model\n",
    "    y_pred_fraud = logistic_model.predict(X_test)  # Predict on test data\n",
    "\n",
    "    # Generate classification report\n",
    "    report_fraud = classification_report(y_test, y_pred_fraud, output_dict=True)\n",
    "    accuracy_fraud = report_fraud['accuracy']\n",
    "\n",
    "    # Log parameters, metrics, and model\n",
    "    mlflow.log_param(\"model\", \"Logistic Regression\")\n",
    "    mlflow.log_metric(\"accuracy\", accuracy_fraud)\n",
    "    mlflow.sklearn.log_model(logistic_model, \"logistic_model_fraud\", input_example=X_test[:5])\n",
    "\n",
    "    # Print classification report\n",
    "    print(\"Logistic Regression - Fraud Data:\\n\", classification_report(y_test, y_pred_fraud))"
   ],
   "id": "64949777d1134217"
  },
  {
   "metadata": {},
   "cell_type": "code",
   "outputs": [],
   "execution_count": null,
   "source": [
    "# Train and evaluate Decision Tree model creditcard.csv\n",
    "with mlflow.start_run(run_name=\"Decision Tree - Fraud Data\"):\n",
    "    decision_tree_model = DecisionTreeClassifier()\n",
    "\n",
    "    # Ensure feature data is in float64 to avoid MLflow warnings\n",
    "    X_train = X_train.astype('float64')\n",
    "    X_test = X_test.astype('float64')\n",
    "\n",
    "    decision_tree_model.fit(X_train, y_train)  # Train the model\n",
    "    y_pred_fraud = decision_tree_model.predict(X_test)  # Predict on test data\n",
    "\n",
    "    # Generate classification report\n",
    "    report_fraud = classification_report(y_test, y_pred_fraud, output_dict=True)\n",
    "    accuracy_fraud = report_fraud['accuracy']\n",
    "\n",
    "    # Log parameters, metrics, and model\n",
    "    mlflow.log_param(\"model\", \"Decision Tree\")\n",
    "    mlflow.log_metric(\"accuracy\", accuracy_fraud)\n",
    "    mlflow.sklearn.log_model(decision_tree_model, \"decision_tree_model_fraud\", input_example=X_test[:5])\n",
    "\n",
    "    # Print classification report\n",
    "    print(\"Decision Tree - Fraud Data:\\n\", classification_report(y_test, y_pred_fraud))"
   ],
   "id": "1c092e780137d946"
  },
  {
   "metadata": {},
   "cell_type": "code",
   "outputs": [],
   "execution_count": null,
   "source": [
    "# Train and evaluate Random Forest model for creditcard.csv\n",
    "with mlflow.start_run(run_name=\"Random Forest - Fraud Data\"):\n",
    "    random_forest_model = RandomForestClassifier(n_estimators=100, random_state=42)\n",
    "\n",
    "    # Ensure feature data is in float64 to avoid MLflow warnings\n",
    "    X_train = X_train.astype('float64')\n",
    "    X_test = X_test.astype('float64')\n",
    "\n",
    "    random_forest_model.fit(X_train, y_train)  # Train the model\n",
    "    y_pred_fraud = random_forest_model.predict(X_test)  # Predict on test data\n",
    "\n",
    "    # Generate classification report\n",
    "    report_fraud = classification_report(y_test, y_pred_fraud, output_dict=True)\n",
    "    accuracy_fraud = report_fraud['accuracy']\n",
    "\n",
    "    # Log parameters, metrics, and model\n",
    "    mlflow.log_param(\"model\", \"Random Forest\")\n",
    "    mlflow.log_metric(\"accuracy\", accuracy_fraud)\n",
    "    mlflow.sklearn.log_model(random_forest_model, \"random_forest_model_fraud\", input_example=X_test[:5])\n",
    "\n",
    "    # Print classification report\n",
    "    print(\"Random Forest - Fraud Data:\\n\", classification_report(y_test, y_pred_fraud))"
   ],
   "id": "7cb74aa7d3288dae"
  },
  {
   "metadata": {},
   "cell_type": "code",
   "outputs": [],
   "execution_count": null,
   "source": [
    "# Train and evaluate Gradient Boosting model for creditcard.csv\n",
    "with mlflow.start_run(run_name=\"Gradient Boosting - Fraud Data\"):\n",
    "    gradient_boosting_model = GradientBoostingClassifier(n_estimators=100, learning_rate=0.1, max_depth=3, random_state=42)\n",
    "\n",
    "    # Ensure feature data is in float64 to avoid MLflow warnings\n",
    "    X_train = X_train.astype('float64')\n",
    "    X_test = X_test.astype('float64')\n",
    "\n",
    "    gradient_boosting_model.fit(X_train, y_train)  # Train the model\n",
    "    y_pred_fraud = gradient_boosting_model.predict(X_test)  # Predict on test data\n",
    "\n",
    "    # Generate classification report\n",
    "    report_fraud = classification_report(y_test, y_pred_fraud, output_dict=True)\n",
    "    accuracy_fraud = report_fraud['accuracy']\n",
    "\n",
    "    # Log parameters, metrics, and model\n",
    "    mlflow.log_param(\"model\", \"Gradient Boosting\")\n",
    "    mlflow.log_metric(\"accuracy\", accuracy_fraud)\n",
    "    mlflow.sklearn.log_model(gradient_boosting_model, \"gradient_boosting_model_fraud\", input_example=X_test[:5])\n",
    "\n",
    "    # Print classification report\n",
    "    print(\"Gradient Boosting - Fraud Data:\\n\", classification_report(y_test, y_pred_fraud))"
   ],
   "id": "81863550dd3fee6f"
  },
  {
   "metadata": {},
   "cell_type": "code",
   "outputs": [],
   "execution_count": null,
   "source": [
    "# Train and evaluate MLP model for creditcard.csv\n",
    "with mlflow.start_run(run_name=\"MLP - Fraud Data\"):\n",
    "    mlp_model = MLPClassifier(hidden_layer_sizes=(100,), max_iter=300, alpha=0.0001, solver='adam', random_state=42)\n",
    "\n",
    "    # Ensure feature data is in float64 to avoid MLflow warnings\n",
    "    X_train = X_train.astype('float64')\n",
    "    X_test = X_test.astype('float64')\n",
    "\n",
    "    mlp_model.fit(X_train, y_train)  # Train the model\n",
    "    y_pred_fraud = mlp_model.predict(X_test)  # Predict on test data\n",
    "\n",
    "    # Generate classification report\n",
    "    report_fraud = classification_report(y_test, y_pred_fraud, output_dict=True)\n",
    "    accuracy_fraud = report_fraud['accuracy']\n",
    "\n",
    "    # Log parameters, metrics, and model\n",
    "    mlflow.log_param(\"model\", \"MLP\")\n",
    "    mlflow.log_metric(\"accuracy\", accuracy_fraud)\n",
    "    mlflow.sklearn.log_model(mlp_model, \"mlp_model_fraud\", input_example=X_test[:5])\n",
    "\n",
    "    # Print classification report\n",
    "    print(\"MLP - Fraud Data:\\n\", classification_report(y_test, y_pred_fraud))"
   ],
   "id": "4547d496671b6f2b"
  },
  {
   "metadata": {},
   "cell_type": "code",
   "outputs": [],
   "execution_count": null,
   "source": [
    "import os\n",
    "import joblib\n",
    "\n",
    "# Create the 'models' directory if it doesn't exist\n",
    "if not os.path.exists('models'):\n",
    "    os.makedirs('models')\n",
    "\n",
    "# Save the trained model to the 'models' folder with the name 'randomforestfor_credit_card_data.pkl'\n",
    "joblib.dump(random_forest_model, 'models/randomforestfor_credit_card_data.pkl')"
   ],
   "id": "28569c5de1600102"
  }
 ],
 "metadata": {
  "kernelspec": {
   "display_name": "Python 3",
   "language": "python",
   "name": "python3"
  },
  "language_info": {
   "codemirror_mode": {
    "name": "ipython",
    "version": 2
   },
   "file_extension": ".py",
   "mimetype": "text/x-python",
   "name": "python",
   "nbconvert_exporter": "python",
   "pygments_lexer": "ipython2",
   "version": "2.7.6"
  }
 },
 "nbformat": 4,
 "nbformat_minor": 5
}
