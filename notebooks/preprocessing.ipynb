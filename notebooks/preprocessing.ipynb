{
 "cells": [
  {
   "cell_type": "code",
   "id": "initial_id",
   "metadata": {
    "collapsed": true,
    "ExecuteTime": {
     "end_time": "2025-07-24T06:58:04.679961Z",
     "start_time": "2025-07-24T06:58:02.686913Z"
    }
   },
   "source": [
    "# Importing necessary lebraries\n",
    "import numpy as np\n",
    "import pandas as pd\n",
    "import os\n",
    "import sys"
   ],
   "outputs": [],
   "execution_count": 1
  },
  {
   "metadata": {
    "ExecuteTime": {
     "end_time": "2025-07-24T06:58:05.444080Z",
     "start_time": "2025-07-24T06:58:05.440039Z"
    }
   },
   "cell_type": "code",
   "source": [
    "sys.path.append(os.path.join(os.path.abspath('..')))\n",
    "# Import modules\n",
    "from src import data_loading as dl"
   ],
   "id": "8076f16696a9ff24",
   "outputs": [],
   "execution_count": 4
  },
  {
   "metadata": {},
   "cell_type": "code",
   "outputs": [],
   "execution_count": null,
   "source": [
    "sys.path.append(os.path.abspath(\"../\"))\n",
    "\n",
    "# Now import your scripts\n",
    "from scripts import univariate as uni\n",
    "from scripts import bivariate as bi\n",
    "from scripts.FeatureEngineering import FeatureEngineering as fe  \n",
    "from scripts.logger import logger"
   ],
   "id": "fad8e31c0a709db4"
  },
  {
   "metadata": {
    "ExecuteTime": {
     "end_time": "2025-07-24T07:01:42.161871Z",
     "start_time": "2025-07-24T07:01:40.273749Z"
    }
   },
   "cell_type": "code",
   "source": [
    "# Use raw strings or double backslashes for file paths\n",
    "fraud_df = dl.load_data(\"Fraud_Data.csv\")\n",
    "ip_df = dl.load_data(\"ipAddress_to_Country.csv\")\n",
    "credit_df = dl.load_data(\"creditcard.csv\")"
   ],
   "id": "8869b94ab21f645",
   "outputs": [],
   "execution_count": 6
  },
  {
   "metadata": {},
   "cell_type": "code",
   "outputs": [],
   "execution_count": null,
   "source": [
    "print(\"head of the Fraud_Data.csv \")\n",
    "fraud_df.head()"
   ],
   "id": "e2b5845116b82c42"
  },
  {
   "metadata": {
    "ExecuteTime": {
     "end_time": "2025-07-24T07:01:47.082335Z",
     "start_time": "2025-07-24T07:01:47.065205Z"
    }
   },
   "cell_type": "code",
   "source": [
    "print(\"head of the ipAddress_to_Country.csv \")\n",
    "ip_df.head()"
   ],
   "id": "2435a37d49ae4043",
   "outputs": [
    {
     "name": "stdout",
     "output_type": "stream",
     "text": [
      "head of the ipAddress_to_Country.csv \n"
     ]
    },
    {
     "data": {
      "text/plain": [
       "   lower_bound_ip_address  upper_bound_ip_address    country\n",
       "0              16777216.0                16777471  Australia\n",
       "1              16777472.0                16777727      China\n",
       "2              16777728.0                16778239      China\n",
       "3              16778240.0                16779263  Australia\n",
       "4              16779264.0                16781311      China"
      ],
      "text/html": [
       "<div>\n",
       "<style scoped>\n",
       "    .dataframe tbody tr th:only-of-type {\n",
       "        vertical-align: middle;\n",
       "    }\n",
       "\n",
       "    .dataframe tbody tr th {\n",
       "        vertical-align: top;\n",
       "    }\n",
       "\n",
       "    .dataframe thead th {\n",
       "        text-align: right;\n",
       "    }\n",
       "</style>\n",
       "<table border=\"1\" class=\"dataframe\">\n",
       "  <thead>\n",
       "    <tr style=\"text-align: right;\">\n",
       "      <th></th>\n",
       "      <th>lower_bound_ip_address</th>\n",
       "      <th>upper_bound_ip_address</th>\n",
       "      <th>country</th>\n",
       "    </tr>\n",
       "  </thead>\n",
       "  <tbody>\n",
       "    <tr>\n",
       "      <th>0</th>\n",
       "      <td>16777216.0</td>\n",
       "      <td>16777471</td>\n",
       "      <td>Australia</td>\n",
       "    </tr>\n",
       "    <tr>\n",
       "      <th>1</th>\n",
       "      <td>16777472.0</td>\n",
       "      <td>16777727</td>\n",
       "      <td>China</td>\n",
       "    </tr>\n",
       "    <tr>\n",
       "      <th>2</th>\n",
       "      <td>16777728.0</td>\n",
       "      <td>16778239</td>\n",
       "      <td>China</td>\n",
       "    </tr>\n",
       "    <tr>\n",
       "      <th>3</th>\n",
       "      <td>16778240.0</td>\n",
       "      <td>16779263</td>\n",
       "      <td>Australia</td>\n",
       "    </tr>\n",
       "    <tr>\n",
       "      <th>4</th>\n",
       "      <td>16779264.0</td>\n",
       "      <td>16781311</td>\n",
       "      <td>China</td>\n",
       "    </tr>\n",
       "  </tbody>\n",
       "</table>\n",
       "</div>"
      ]
     },
     "execution_count": 7,
     "metadata": {},
     "output_type": "execute_result"
    }
   ],
   "execution_count": 7
  },
  {
   "metadata": {},
   "cell_type": "code",
   "outputs": [],
   "execution_count": null,
   "source": [
    "print(\"head of the creditcard.csv \")\n",
    "credit_df.head()"
   ],
   "id": "881521dfe2ba5998"
  },
  {
   "metadata": {},
   "cell_type": "code",
   "outputs": [],
   "execution_count": null,
   "source": "fraud_df.info()",
   "id": "e94963aa95f4431b"
  },
  {
   "metadata": {
    "ExecuteTime": {
     "end_time": "2025-07-24T07:03:26.878903Z",
     "start_time": "2025-07-24T07:03:26.712762Z"
    }
   },
   "cell_type": "code",
   "source": [
    "duplicate_count = fraud_df.duplicated().sum()\n",
    "print(f\"Number of duplicate rows: {duplicate_count}\")"
   ],
   "id": "e7096750e0b95ad9",
   "outputs": [
    {
     "name": "stdout",
     "output_type": "stream",
     "text": [
      "Number of duplicate rows: 0\n"
     ]
    }
   ],
   "execution_count": 8
  },
  {
   "metadata": {
    "ExecuteTime": {
     "end_time": "2025-07-24T07:03:56.989790Z",
     "start_time": "2025-07-24T07:03:56.945439Z"
    }
   },
   "cell_type": "code",
   "source": [
    "duplicate_count = ip_df.duplicated().sum()\n",
    "print(f\"Number of duplicate rows: {duplicate_count}\")"
   ],
   "id": "f7dca975519969e6",
   "outputs": [
    {
     "name": "stdout",
     "output_type": "stream",
     "text": [
      "Number of duplicate rows: 0\n"
     ]
    }
   ],
   "execution_count": 9
  },
  {
   "metadata": {},
   "cell_type": "code",
   "outputs": [],
   "execution_count": null,
   "source": [
    "duplicate_count = credit_df.duplicated().sum()\n",
    "print(f\"Number of duplicate rows: {duplicate_count}\")"
   ],
   "id": "3fb058a4f270262e"
  },
  {
   "metadata": {},
   "cell_type": "code",
   "outputs": [],
   "execution_count": null,
   "source": [
    "# Remove duplicates in the credit card data\n",
    "credit_df = credit_df.drop_duplicates()\n",
    "duplicate_count = credit_df.duplicated().sum()\n",
    "print(f\"Number of duplicate rows after drop duplicate : {duplicate_count}\")"
   ],
   "id": "83a38e18c571b986"
  },
  {
   "metadata": {},
   "cell_type": "code",
   "outputs": [],
   "execution_count": null,
   "source": "print(fraud_df.dtypes)\n",
   "id": "f90a8d49d2b67c12"
  },
  {
   "metadata": {},
   "cell_type": "code",
   "outputs": [],
   "execution_count": null,
   "source": [
    "# Correct data types\n",
    "fraud_df['signup_time'] = pd.to_datetime(fraud_df['signup_time'])\n",
    "fraud_df['purchase_time'] = pd.to_datetime(fraud_df['purchase_time'])\n",
    "fraud_df['purchase_value'] = fraud_df['purchase_value'].astype(float)\n",
    "fraud_df['ip_address'] = fraud_df['ip_address'].astype(int)"
   ],
   "id": "e5da16c7daac0cc6"
  },
  {
   "metadata": {},
   "cell_type": "code",
   "outputs": [],
   "execution_count": null,
   "source": "print(ip_df.dtypes)\n",
   "id": "6a419af226ff67af"
  },
  {
   "metadata": {},
   "cell_type": "code",
   "outputs": [],
   "execution_count": null,
   "source": [
    "# Correct data types\n",
    "ip_df['lower_bound_ip_address'] = ip_df['lower_bound_ip_address'].astype(int)\n",
    "\n",
    "# Verify corrected data types\n",
    "print(ip_df.dtypes)"
   ],
   "id": "740b3a2e6147af43"
  },
  {
   "metadata": {},
   "cell_type": "code",
   "outputs": [],
   "execution_count": null,
   "source": "print(credit_df.dtypes)\n",
   "id": "19865121fbdab236"
  },
  {
   "metadata": {},
   "cell_type": "code",
   "outputs": [],
   "execution_count": null,
   "source": [
    "#Univariate Analysis on Fraud Data\n",
    "uni.summary_statistics(fraud_df, \"Fraud Data\")\n",
    "uni.plot_histograms(fraud_df, \"Fraud Data\")\n",
    "uni.plot_boxplots(fraud_df, [\"purchase_value\"], \"Fraud Data\")"
   ],
   "id": "5937bb4bd7b9b33a"
  },
  {
   "metadata": {},
   "cell_type": "code",
   "outputs": [],
   "execution_count": null,
   "source": [
    "#Univariate Analysis on Credit Card Data\n",
    "uni.summary_statistics(credit_df, \"Credit Card Data\")\n",
    "uni.plot_histograms(credit_df, \"Credit Card Data\")"
   ],
   "id": "c28e25691ec19a7b"
  },
  {
   "metadata": {},
   "cell_type": "code",
   "outputs": [],
   "execution_count": null,
   "source": [
    "#Bivariate Analysis\n",
    "bi.correlation_heatmap(credit_df, \"Credit Card Data\")\n",
    "bi.plot_boxplot(fraud_df, \"class\", \"purchase_value\", \"Fraud Data\")\n",
    "bi.pairplot_features(credit_df, [\"V1\", \"V2\", \"V3\", \"Amount\", \"Class\"], \"Class\", \"Credit Card Data\")"
   ],
   "id": "4c28cacd38ea525e"
  },
  {
   "metadata": {
    "ExecuteTime": {
     "end_time": "2025-07-24T07:12:40.263875Z",
     "start_time": "2025-07-24T07:12:40.258726Z"
    }
   },
   "cell_type": "code",
   "source": [
    "#Merge fraud_df with ip_df based on the IP address range\n",
    "merged_df = pd.merge(\n",
    "    fraud_df,\n",
    "    ip_df,\n",
    "    how='left',\n",
    "    left_on='ip_address',\n",
    "    right_on='lower_bound_ip_address'\n",
    ")\n",
    "\n",
    "# Filter to include rows where the ip_address is within the range of lower and upper bound\n",
    "merged_df = merged_df[(merged_df['ip_address'] >= merged_df['lower_bound_ip_address']) & (merged_df['ip_address'] <= merged_df['upper_bound_ip_address'])]\n",
    "\n",
    "# Drop the unnecessary columns\n",
    "merged_df = merged_df.drop(columns=['lower_bound_ip_address', 'upper_bound_ip_address'])\n",
    "\n",
    "# Display the first few rows of the merged DataFrame\n",
    "print(merged_df.head())\n",
    "\n",
    "# Create the data folder if it doesn't exist\n",
    "if not os.path.exists('data'):\n",
    "    os.makedirs('data')\n",
    "    print(\"Created 'data' folder.\")\n",
    "\n",
    "# Save the merged DataFrame to the data folder\n",
    "merged_df.to_csv('../data/merged_data.csv', index=False)\n",
    "\n",
    "# Confirm the file is saved\n",
    "print(\"Merged data has been saved as '(''../data/merged_data.csv''.\")"
   ],
   "id": "486d0491ea20578e",
   "outputs": [],
   "execution_count": 10
  },
  {
   "metadata": {},
   "cell_type": "code",
   "outputs": [],
   "execution_count": null,
   "source": [
    "# Initialize FeatureEngineering with fraud_df\n",
    "feature_engineering = fe(fraud_df, logger)\n",
    "\n",
    "# Run the feature engineering pipeline\n",
    "feature_engineering.pipeline()\n",
    "\n",
    "# Retrieve the processed data\n",
    "processed_data = feature_engineering.get_processed_data()\n",
    "\n",
    "# Display the first few rows of the processed DataFrame\n",
    "processed_data.head()"
   ],
   "id": "bb3710de90579e72"
  },
  {
   "metadata": {},
   "cell_type": "code",
   "outputs": [],
   "execution_count": null,
   "source": [
    "# Save the processed datase to the csv for modeling\n",
    "processed_data.to_csv('../data/processed/processed_fraud_data.csv')"
   ],
   "id": "46afbd062c35e330"
  }
 ],
 "metadata": {
  "kernelspec": {
   "display_name": "Python 3",
   "language": "python",
   "name": "python3"
  },
  "language_info": {
   "codemirror_mode": {
    "name": "ipython",
    "version": 2
   },
   "file_extension": ".py",
   "mimetype": "text/x-python",
   "name": "python",
   "nbconvert_exporter": "python",
   "pygments_lexer": "ipython2",
   "version": "2.7.6"
  }
 },
 "nbformat": 4,
 "nbformat_minor": 5
}
