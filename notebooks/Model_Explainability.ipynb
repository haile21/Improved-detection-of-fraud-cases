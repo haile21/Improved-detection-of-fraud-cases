{
 "cells": [
  {
   "cell_type": "code",
   "execution_count": null,
   "id": "initial_id",
   "metadata": {
    "collapsed": true
   },
   "outputs": [],
   "source": [
    "import pandas as pd\n",
    "import lime\n",
    "from lime.lime_tabular import LimeTabularExplainer\n",
    "import matplotlib.pyplot as plt\n",
    "import logging\n",
    "import sys\n",
    "import os\n",
    "import numpy as np\n",
    "\n",
    "from joblib import load  # To load the saved model"
   ]
  },
  {
   "metadata": {},
   "cell_type": "code",
   "outputs": [],
   "execution_count": null,
   "source": [
    "sys.path.append(os.path.abspath(\"../\"))\n",
    "\n",
    "\n",
    "from scripts.model import prepare_data, split_data\n",
    "\n",
    "from src import data_loading as dl\n",
    "from scripts.logger import logger \n",
    "from scripts.Model_Explainability import load_model,lime_explainability,global_feature_importance,pdp_ice_plots,plot_roc_auc"
   ],
   "id": "655129d1d96c572c"
  },
  {
   "metadata": {},
   "cell_type": "code",
   "outputs": [],
   "execution_count": null,
   "source": [
    "credit = dl.load_data(\"creditcard.csv\")\n",
    "fraud_df = dl.load_data(\"processed/processed_fraud_data.csv\")\n",
    "# Remove duplicates\n",
    "credit = credit.drop_duplicates()\n",
    "credit[\"Class\"] = credit[\"Class\"].astype(bool)"
   ],
   "id": "b57ca974f0f70ee7"
  },
  {
   "metadata": {},
   "cell_type": "code",
   "outputs": [],
   "execution_count": null,
   "source": [
    "# to match the number of instances in the minority class.\n",
    "\n",
    "# Randomly shuffle the entire dataset to ensure randomness\n",
    "df = credit.sample(frac=1, random_state=42).reset_index(drop=True)\n",
    "\n",
    "# Isolate the minority class (fraud) with 473 instances\n",
    "minority_class = df.loc[df['Class'] == 1]\n",
    "\n",
    "# Select a random subset of the majority class (non-fraud) with the same number of instances as the minority class\n",
    "majority_class_subset = df.loc[df['Class'] == 0].sample(n=473, random_state=42)\n",
    "\n",
    "# Combine the minority class and the majority class subset to create a balanced dataset\n",
    "balanced_df = pd.concat([minority_class, majority_class_subset])\n",
    "\n",
    "# Shuffle the balanced dataset to ensure randomness\n",
    "balanced_df = balanced_df.sample(frac=1, random_state=42).reset_index(drop=True)\n",
    "\n",
    "# Verify the first few rows of the balanced dataset\n",
    "balanced_df.head()\n",
    "X_credit, y_credit = prepare_data(balanced_df, 'Class')"
   ],
   "id": "d8a951f8cad95451"
  },
  {
   "metadata": {},
   "cell_type": "code",
   "outputs": [],
   "execution_count": null,
   "source": "X_credit, y_credit = prepare_data(balanced_df, 'Class')\n",
   "id": "13ad59a41c0524db"
  },
  {
   "metadata": {},
   "cell_type": "code",
   "outputs": [],
   "execution_count": null,
   "source": [
    "from imblearn.over_sampling import SMOTE\n",
    "from imblearn.under_sampling import RandomUnderSampler\n",
    "from collections import Counter\n",
    "\n",
    "# Convert the target variable to integer\n",
    "credit['Class'] = credit['Class'].astype(int)\n",
    "\n",
    "# Define the resampling strategies\n",
    "over = SMOTE(sampling_strategy=0.5)\n",
    "under = RandomUnderSampler(sampling_strategy=0.1)\n",
    "\n",
    "# Split data into features (X) and target (y)\n",
    "X = credit.iloc[:, :-1].values  # Assuming 'Class' is the last column\n",
    "y = credit['Class'].values\n",
    "\n",
    "# Apply under-sampling first\n",
    "X_under, y_under = under.fit_resample(X, y)\n",
    "\n",
    "# Apply over-sampling on the under-sampled data\n",
    "X_resampled, y_resampled = over.fit_resample(X_under, y_under)\n",
    "\n",
    "# Now you can use the resampled data for further processing\n",
    "print(Counter(y_resampled))"
   ],
   "id": "f7dd27bb57ac61a3"
  },
  {
   "metadata": {},
   "cell_type": "code",
   "outputs": [],
   "execution_count": null,
   "source": [
    "#  Train-Test Split\n",
    "X_train, X_test, y_train, y_test = split_data(X_resampled, y_resampled, test_size=0.2, random_state=42)"
   ],
   "id": "4d8b180600389c01"
  },
  {
   "metadata": {},
   "cell_type": "code",
   "outputs": [],
   "execution_count": null,
   "source": [
    "model_path = '../models/randomforestfor_credit_card_data.pkl'  \n",
    "model = load_model(model_path) \n",
    "lime_explainability(model, X_train, X_test)"
   ],
   "id": "afa81f4edd6af512"
  },
  {
   "metadata": {},
   "cell_type": "code",
   "outputs": [],
   "execution_count": null,
   "source": [
    "global_feature_importance(model, X_train)  # Plot global feature importance\n",
    "pdp_ice_plots(model, X_train, [0, 1])  # Plot PDP and ICE for specified features"
   ],
   "id": "53539c3d94189e23"
  },
  {
   "metadata": {},
   "cell_type": "code",
   "outputs": [],
   "execution_count": null,
   "source": "plot_roc_auc(model, X_test, y_test)\n",
   "id": "99fa23a7014af237"
  },
  {
   "metadata": {},
   "cell_type": "code",
   "outputs": [],
   "execution_count": null,
   "source": [
    "fraud_df = fraud_df.sample(frac=1, random_state=42).reset_index(drop=True)\n",
    "fraud_df = fraud_df.drop(columns=['Unnamed: 0', 'signup_time', 'purchase_time', 'device_id', 'ip_address'])\n",
    "bool_cols = fraud_df.select_dtypes(include=['bool']).columns\n",
    "fraud_df[bool_cols] = fraud_df[bool_cols].astype(int)"
   ],
   "id": "c759675d90e018e9"
  },
  {
   "metadata": {},
   "cell_type": "code",
   "outputs": [],
   "execution_count": null,
   "source": [
    "# Split data into features (X) and target (y)\n",
    "X_u_o = fraud_df.drop(columns=['class'])\n",
    "y_u_o = fraud_df['class']\n",
    "\n",
    "# Split the original data into training and test sets\n",
    "X_train, X_test, y_train, y_test = split_data(X_u_o, y_u_o, test_size=0.2, random_state=42)\n",
    "\n",
    "# Convert Date-Time Column to Numerical Features if necessary\n",
    "# Convert the training and test sets to 'float64' data type\n",
    "X_train = X_train.astype('float64')\n",
    "X_test = X_test.astype('float64')"
   ],
   "id": "a4c5728a93007668"
  },
  {
   "metadata": {},
   "cell_type": "code",
   "outputs": [],
   "execution_count": null,
   "source": [
    "# Define the resampling strategies\n",
    "over = SMOTE(sampling_strategy=0.5)\n",
    "under = RandomUnderSampler(sampling_strategy=0.2)\n",
    "\n",
    "# Split data into features (X) and target (y)\n",
    "# Split data into features (X) and target (y)\n",
    "X_u_o = fraud_df.drop(columns=['class'])\n",
    "y_u_o = fraud_df['class']\n",
    "\n",
    "# Apply under-sampling first\n",
    "X_under, y_under = under.fit_resample(X_u_o, y_u_o)\n",
    "\n",
    "# Apply over-sampling on the under-sampled data\n",
    "X_resampled, y_resampled = over.fit_resample(X_under, y_under)\n",
    "\n",
    "# Now you can use the resampled data for further processing\n",
    "print(Counter(y_resampled))"
   ],
   "id": "e8f945c841f396dd"
  },
  {
   "metadata": {},
   "cell_type": "code",
   "outputs": [],
   "execution_count": null,
   "source": [
    "# Set the path to your saved model (replace with the actual path)\n",
    "\n",
    "model_path_fraud = '../models/random_forest_model_fraud.pkl'  \n",
    "model_fraud = load_model(model_path_fraud) "
   ],
   "id": "1c26f64de39dfd58"
  },
  {
   "metadata": {},
   "cell_type": "code",
   "outputs": [],
   "execution_count": null,
   "source": [
    "global_feature_importance(model_fraud, X_train)  # Plot global feature importance\n",
    "pdp_ice_plots(model_fraud, X_train, [0, 1])  # Plot PDP and ICE for specified features"
   ],
   "id": "7815d1eb476a9452"
  },
  {
   "metadata": {},
   "cell_type": "code",
   "outputs": [],
   "execution_count": null,
   "source": "plot_roc_auc(model_fraud, X_test, y_test)\n",
   "id": "30c9dcd14ee8f4e0"
  }
 ],
 "metadata": {
  "kernelspec": {
   "display_name": "Python 3",
   "language": "python",
   "name": "python3"
  },
  "language_info": {
   "codemirror_mode": {
    "name": "ipython",
    "version": 2
   },
   "file_extension": ".py",
   "mimetype": "text/x-python",
   "name": "python",
   "nbconvert_exporter": "python",
   "pygments_lexer": "ipython2",
   "version": "2.7.6"
  }
 },
 "nbformat": 4,
 "nbformat_minor": 5
}
