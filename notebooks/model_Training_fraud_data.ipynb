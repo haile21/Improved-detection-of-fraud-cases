{
 "cells": [
  {
   "cell_type": "code",
   "execution_count": null,
   "id": "initial_id",
   "metadata": {
    "collapsed": true
   },
   "outputs": [],
   "source": [
    "# Importing necessary lebraries\n",
    "import numpy as np\n",
    "import pandas as pd\n",
    "import os\n",
    "import sys\n",
    "import matplotlib.pyplot as pl\n",
    "import joblib\n",
    "import seaborn as se\n",
    "from collections import Counter\n",
    "import mlflow\n",
    "import mlflow.sklearn\n",
    "from sklearn.linear_model import LogisticRegression\n",
    "from sklearn.metrics import classification_report\n",
    "from sklearn.preprocessing import StandardScaler\n",
    "from sklearn.tree import DecisionTreeClassifier\n",
    "from sklearn.ensemble import RandomForestClassifier\n",
    "from sklearn.ensemble import GradientBoostingClassifier\n",
    "from sklearn.neural_network import MLPClassifier\n",
    "from imblearn.over_sampling import SMOTE\n",
    "from imblearn.under_sampling import RandomUnderSampler"
   ]
  },
  {
   "metadata": {},
   "cell_type": "code",
   "outputs": [],
   "execution_count": null,
   "source": [
    "sys.path.append(os.path.join(os.path.abspath('..')))\n",
    "# Import modules\n",
    "from src import data_loading as dl"
   ],
   "id": "8b6288be7f946a79"
  },
  {
   "metadata": {},
   "cell_type": "code",
   "outputs": [],
   "execution_count": null,
   "source": [
    "sys.path.append(os.path.abspath(\"../\"))\n",
    "\n",
    "\n",
    "from scripts.model import prepare_data, split_data\n",
    "\n",
    "from scripts.logger import logger "
   ],
   "id": "2fbb2b1450b497a3"
  },
  {
   "metadata": {},
   "cell_type": "code",
   "outputs": [],
   "execution_count": null,
   "source": "fraud_df = dl.load_data(\"processed/processed_fraud_data.csv\")\n",
   "id": "437ba4a8b9432cb4"
  },
  {
   "metadata": {},
   "cell_type": "code",
   "outputs": [],
   "execution_count": null,
   "source": [
    "print('No frauds', round(fraud_df['class'].value_counts()[0]/len(fraud_df) * 100,2),\n",
    "      '% of the dataset')\n",
    "print('Frauds', round(fraud_df['class'].value_counts()[1]/len(fraud_df) * 100,2),\n",
    "      '% of the dataset')"
   ],
   "id": "23657a0738927642"
  },
  {
   "metadata": {},
   "cell_type": "code",
   "outputs": [],
   "execution_count": null,
   "source": "X_fraud, y_fraud = prepare_data(fraud_df, 'class')\n",
   "id": "801b248dddaf7884"
  },
  {
   "metadata": {},
   "cell_type": "code",
   "outputs": [],
   "execution_count": null,
   "source": "X_train_fraud, X_test_fraud, y_train_fraud, y_test_fraud = split_data(X_fraud, y_fraud)\n",
   "id": "479e51f3629dc6d7"
  },
  {
   "metadata": {},
   "cell_type": "code",
   "outputs": [],
   "execution_count": null,
   "source": [
    "print(\"Fraud Data Shapes:\")\n",
    "print(\"X_train_fraud:\", X_train_fraud.shape)\n",
    "print(\"X_test_fraud:\", X_test_fraud.shape)\n",
    "print(\"y_train_fraud:\", y_train_fraud.shape)\n",
    "print(\"y_test_fraud:\", y_test_fraud.shape)"
   ],
   "id": "e0be63f8170cbbe3"
  },
  {
   "metadata": {},
   "cell_type": "code",
   "outputs": [],
   "execution_count": null,
   "source": [
    "# Check the distribution of labels in the training and testing sets\n",
    "train_unique_label, train_counts_label = np.unique(y_train_fraud, return_counts=True)\n",
    "test_unique_label, test_counts_label = np.unique(y_test_fraud, return_counts=True)\n",
    "\n",
    "\n",
    "print('Label Distributions: \\n')\n",
    "print('Training set label distribution:', train_counts_label/ len(y_train_fraud))\n",
    "print('Testing set label distribution:', test_counts_label/ len(y_test_fraud))"
   ],
   "id": "ebb67642dd8408bd"
  },
  {
   "metadata": {},
   "cell_type": "code",
   "outputs": [],
   "execution_count": null,
   "source": [
    "non_fraud_sum = fraud_df[fraud_df['class'] == 0].value_counts().sum()\n",
    "print('non fraud data ', non_fraud_sum)"
   ],
   "id": "bf369d236eabe23b"
  },
  {
   "metadata": {},
   "cell_type": "code",
   "outputs": [],
   "execution_count": null,
   "source": [
    "fraud_sum = fraud_df[fraud_df['class'] == 1].value_counts().sum()\n",
    "print(' fraud data ', fraud_sum)"
   ],
   "id": "2b55ca13da6bdf42"
  },
  {
   "metadata": {},
   "cell_type": "code",
   "outputs": [],
   "execution_count": null,
   "source": [
    "se.countplot(data=fraud_df, x='class', hue='class', palette='viridis')\n",
    "pl.legend(title='class', labels=['Non-Fraud', 'Fraud'], loc='best')\n",
    "pl.title('Distribution of Fraud and Non-Fraud Transactions')\n",
    "pl.show()"
   ],
   "id": "118bcee4adde4618"
  },
  {
   "metadata": {},
   "cell_type": "code",
   "outputs": [],
   "execution_count": null,
   "source": [
    "# Shuffle dataset\n",
    "df = fraud_df.sample(frac=1, random_state=42).reset_index(drop=True)\n",
    "\n",
    "# Get counts of each class\n",
    "num_fraud = df[df['class'] == 1].shape[0]\n",
    "num_non_fraud = df[df['class'] == 0].shape[0]\n",
    "\n",
    "# Determine the smaller class size to balance\n",
    "min_samples = min(num_fraud, num_non_fraud)\n",
    "\n",
    "# Undersample both classes to be exactly equal\n",
    "fraud_sample = df[df['class'] == 1].sample(n=min_samples, random_state=42)\n",
    "non_fraud_sample = df[df['class'] == 0].sample(n=min_samples, random_state=42)\n",
    "\n",
    "# Combine balanced data\n",
    "balanced_df = pd.concat([fraud_sample, non_fraud_sample])\n",
    "\n",
    "# Shuffle again to mix fraud & non-fraud instances\n",
    "balanced_df = balanced_df.sample(frac=1, random_state=42).reset_index(drop=True)\n",
    "\n",
    "# Drop unnecessary columns\n",
    "balanced_df = balanced_df.drop(columns=['Unnamed: 0', 'signup_time', 'purchase_time', 'device_id', 'ip_address'])\n",
    "\n",
    "# Convert boolean columns to integers\n",
    "bool_cols = balanced_df.select_dtypes(include=['bool']).columns\n",
    "balanced_df[bool_cols] = balanced_df[bool_cols].astype(int)\n",
    "\n",
    "# Verify the class distribution\n",
    "print(balanced_df['class'].value_counts())\n",
    "\n",
    "# Display first few rows\n",
    "balanced_df.head()"
   ],
   "id": "5e9ed6b91c3658c0"
  },
  {
   "metadata": {},
   "cell_type": "code",
   "outputs": [],
   "execution_count": null,
   "source": [
    "se.countplot(data=balanced_df, x='class', hue='class', palette='viridis')\n",
    "pl.legend(title='class', labels=['Non-Fraud', 'Fraud'], loc='best')\n",
    "pl.title('Distribution of Fraud and Non-Fraud Transactions')\n",
    "pl.show()"
   ],
   "id": "db677a304a57dbce"
  },
  {
   "metadata": {},
   "cell_type": "code",
   "outputs": [],
   "execution_count": null,
   "source": "X_fraud, y_fraud = prepare_data(balanced_df, 'class')\n",
   "id": "f7eeb8f8e67d395c"
  },
  {
   "metadata": {},
   "cell_type": "code",
   "outputs": [],
   "execution_count": null,
   "source": [
    "X_train = X_train_fraud.values\n",
    "X_test = X_test_fraud.values\n",
    "y_train = y_train_fraud.values\n",
    "X_test = X_test_fraud.values\n",
    "y_test = y_test_fraud.values"
   ],
   "id": "abaec757606db6af"
  },
  {
   "metadata": {},
   "cell_type": "code",
   "outputs": [],
   "execution_count": null,
   "source": "X_train_fraud, X_test_fraud, y_train_fraud, y_test_fraud = split_data(X_fraud, y_fraud)\n",
   "id": "dfa3a0f968284ed"
  },
  {
   "metadata": {},
   "cell_type": "code",
   "outputs": [],
   "execution_count": null,
   "source": [
    "X_train_fraud = X_train_fraud.astype('float64')\n",
    "X_test_fraud = X_test_fraud.astype('float64')"
   ],
   "id": "408e2d731098ae74"
  },
  {
   "metadata": {},
   "cell_type": "code",
   "outputs": [],
   "execution_count": null,
   "source": [
    "# Train and evaluate Logistic Regression model for Fraud_Data.csv\n",
    "with mlflow.start_run(run_name=\"Logistic Regression - Fraud Data\"):\n",
    "    logistic_model = LogisticRegression(max_iter=1000, solver='lbfgs', class_weight='balanced')  # Increased max_iter & balanced class weights\n",
    "    \n",
    "    # Ensure feature data is in float64 to avoid MLflow warnings\n",
    "    X_train_fraud = X_train_fraud.astype('float64')\n",
    "    X_test_fraud = X_test_fraud.astype('float64')\n",
    "\n",
    "    logistic_model.fit(X_train_fraud, y_train_fraud)\n",
    "    y_pred_fraud = logistic_model.predict(X_test_fraud)\n",
    "\n",
    "    # Generate classification report\n",
    "    report_fraud = classification_report(y_test_fraud, y_pred_fraud, output_dict=True)\n",
    "    accuracy_fraud = report_fraud['accuracy']\n",
    "\n",
    "    # Log parameters, metrics, and model\n",
    "    mlflow.log_param(\"model\", \"Logistic Regression\")\n",
    "    mlflow.log_metric(\"accuracy\", accuracy_fraud)\n",
    "    mlflow.sklearn.log_model(logistic_model, \"logistic_model_fraud\", input_example=X_test_fraud[:5])\n",
    "\n",
    "    # Print classification report\n",
    "    print(\"Logistic Regression - Fraud Data:\\n\", classification_report(y_test_fraud, y_pred_fraud))"
   ],
   "id": "5eeec06b5bdb5ec8"
  },
  {
   "metadata": {},
   "cell_type": "code",
   "outputs": [],
   "execution_count": null,
   "source": [
    "# Train and evaluate Decision Tree model for Fraud_Data.csv\n",
    "with mlflow.start_run(run_name=\"Decision Tree - Fraud Data\"):\n",
    "    decision_tree_model = DecisionTreeClassifier()\n",
    "    \n",
    "    # Ensure feature data is in float64 to avoid MLflow warnings\n",
    "    X_train_fraud = X_train_fraud.astype('float64')\n",
    "    X_test_fraud = X_test_fraud.astype('float64')\n",
    "    \n",
    "    # Convert integer columns in X_test_fraud to float64 to avoid schema enforcement warnings\n",
    "    X_test_fraud = X_test_fraud.astype('float64')\n",
    "    \n",
    "    decision_tree_model.fit(X_train_fraud, y_train_fraud)\n",
    "    y_pred_fraud = decision_tree_model.predict(X_test_fraud)\n",
    "\n",
    "    # Generate classification report\n",
    "    report_fraud = classification_report(y_test_fraud, y_pred_fraud, output_dict=True)\n",
    "    accuracy_fraud = report_fraud['accuracy']\n",
    "\n",
    "    # Log parameters, metrics, and model\n",
    "    mlflow.log_param(\"model\", \"Decision Tree\")\n",
    "    mlflow.log_metric(\"accuracy\", accuracy_fraud)\n",
    "    mlflow.sklearn.log_model(decision_tree_model, \"decision_tree_model_fraud\", input_example=X_test_fraud[:5])\n",
    "\n",
    "    # Print classification report\n",
    "    print(\"Decision Tree - Fraud Data:\\n\", classification_report(y_test_fraud, y_pred_fraud))"
   ],
   "id": "6f759f65dec658f8"
  },
  {
   "metadata": {},
   "cell_type": "code",
   "outputs": [],
   "execution_count": null,
   "source": [
    "# Train and evaluate Random Forest model\n",
    "with mlflow.start_run(run_name=\"Random Forest - Fraud Data\"):\n",
    "    random_forest_model = RandomForestClassifier(n_estimators=100, random_state=42)\n",
    "\n",
    "    # Ensure feature data is in float64 to avoid MLflow warnings\n",
    "    X_train = X_train.astype('float64')\n",
    "    X_test = X_test.astype('float64')\n",
    "\n",
    "    random_forest_model.fit(X_train, y_train)  # Train the model\n",
    "    y_pred_fraud = random_forest_model.predict(X_test)  # Predict on test data\n",
    "\n",
    "    # Generate classification report\n",
    "    report_fraud = classification_report(y_test, y_pred_fraud, output_dict=True)\n",
    "    accuracy_fraud = report_fraud['accuracy']\n",
    "\n",
    "    # Log parameters, metrics, and model\n",
    "    mlflow.log_param(\"model\", \"Random Forest\")\n",
    "    mlflow.log_metric(\"accuracy\", accuracy_fraud)\n",
    "    mlflow.sklearn.log_model(random_forest_model, \"random_forest_model_fraud\", input_example=X_test[:5])\n",
    "\n",
    "    # Print classification report\n",
    "    print(\"Random Forest - Fraud Data:\\n\", classification_report(y_test, y_pred_fraud))\n"
   ],
   "id": "cc31cf1af061d1d"
  },
  {
   "metadata": {},
   "cell_type": "code",
   "outputs": [],
   "execution_count": null,
   "source": [
    "# Train and evaluate Gradient Boosting model for Fraud_Data.csv\n",
    "with mlflow.start_run(run_name=\"Gradient Boosting - Fraud Data\"):\n",
    "    gradient_boosting_model = GradientBoostingClassifier(n_estimators=100, learning_rate=0.1, max_depth=3, random_state=42)\n",
    "    \n",
    "    # Ensure feature data is in float64 to avoid MLflow warnings\n",
    "    X_train_fraud = X_train_fraud.astype('float64')\n",
    "    X_test_fraud = X_test_fraud.astype('float64')\n",
    "\n",
    "    gradient_boosting_model.fit(X_train_fraud, y_train_fraud)\n",
    "    y_pred_fraud = gradient_boosting_model.predict(X_test_fraud)\n",
    "\n",
    "    # Generate classification report\n",
    "    report_fraud = classification_report(y_test_fraud, y_pred_fraud, output_dict=True)\n",
    "    accuracy_fraud = report_fraud['accuracy']\n",
    "\n",
    "    # Log parameters, metrics, and model\n",
    "    mlflow.log_param(\"model\", \"Gradient Boosting\")\n",
    "    mlflow.log_metric(\"accuracy\", accuracy_fraud)\n",
    "    mlflow.sklearn.log_model(gradient_boosting_model, \"gradient_boosting_model_fraud\", input_example=X_test_fraud[:5])\n",
    "\n",
    "    # Print classification report\n",
    "    print(\"Gradient Boosting - Fraud Data:\\n\", classification_report(y_test_fraud, y_pred_fraud))"
   ],
   "id": "b75f290139535fe1"
  },
  {
   "metadata": {},
   "cell_type": "code",
   "outputs": [],
   "execution_count": null,
   "source": [
    "# Train and evaluate MLP model for Fraud_Data.csv\n",
    "with mlflow.start_run(run_name=\"MLP - Fraud Data\"):\n",
    "    mlp_model = MLPClassifier(hidden_layer_sizes=(100,), max_iter=300, alpha=0.0001, solver='adam', random_state=42)\n",
    "    \n",
    "    # Ensure feature data is in float64 to avoid MLflow warnings\n",
    "    X_train_fraud = X_train_fraud.astype('float64')\n",
    "    X_test_fraud = X_test_fraud.astype('float64')\n",
    "\n",
    "    mlp_model.fit(X_train_fraud, y_train_fraud)\n",
    "    y_pred_fraud = mlp_model.predict(X_test_fraud)\n",
    "\n",
    "    # Generate classification report\n",
    "    report_fraud = classification_report(y_test_fraud, y_pred_fraud, output_dict=True)\n",
    "    accuracy_fraud = report_fraud['accuracy']\n",
    "\n",
    "    # Log parameters, metrics, and model\n",
    "    mlflow.log_param(\"model\", \"MLP\")\n",
    "    mlflow.log_metric(\"accuracy\", accuracy_fraud)\n",
    "    mlflow.sklearn.log_model(mlp_model, \"mlp_model_fraud\", input_example=X_test_fraud[:5])\n",
    "\n",
    "    # Print classification report\n",
    "    print(\"MLP - Fraud Data:\\n\", classification_report(y_test_fraud, y_pred_fraud))"
   ],
   "id": "ae9acf9d5455803f"
  },
  {
   "metadata": {},
   "cell_type": "code",
   "outputs": [],
   "execution_count": null,
   "source": [
    "fraud_df = fraud_df.sample(frac=1, random_state=42).reset_index(drop=True)\n",
    "fraud_df = fraud_df.drop(columns=['Unnamed: 0', 'signup_time', 'purchase_time', 'device_id', 'ip_address'])\n",
    "bool_cols = fraud_df.select_dtypes(include=['bool']).columns\n",
    "fraud_df[bool_cols] = fraud_df[bool_cols].astype(int)"
   ],
   "id": "72f1c4cd15f56415"
  },
  {
   "metadata": {},
   "cell_type": "code",
   "outputs": [],
   "execution_count": null,
   "source": [
    "# Split data into features (X) and target (y)\n",
    "X_u_o = fraud_df.drop(columns=['class'])\n",
    "y_u_o = fraud_df['class']\n",
    "\n",
    "# Split the original data into training and test sets\n",
    "X_train, X_test, y_train, y_test = split_data(X_u_o, y_u_o, test_size=0.2, random_state=42)\n",
    "\n",
    "# Convert Date-Time Column to Numerical Features if necessary\n",
    "\n",
    "\n",
    "\n",
    "\n",
    "\n",
    "# Convert the training and test sets to 'float64' data type\n",
    "X_train = X_train.astype('float64')\n",
    "X_test = X_test.astype('float64')"
   ],
   "id": "face5698783419f4"
  },
  {
   "metadata": {},
   "cell_type": "code",
   "outputs": [],
   "execution_count": null,
   "source": [
    "# Define the resampling strategies\n",
    "over = SMOTE(sampling_strategy=0.5)\n",
    "under = RandomUnderSampler(sampling_strategy=0.2)\n",
    "\n",
    "# Split data into features (X) and target (y)\n",
    "# Split data into features (X) and target (y)\n",
    "X_u_o = fraud_df.drop(columns=['class'])\n",
    "y_u_o = fraud_df['class']\n",
    "\n",
    "# Apply under-sampling first\n",
    "X_under, y_under = under.fit_resample(X_u_o, y_u_o)\n",
    "\n",
    "# Apply over-sampling on the under-sampled data\n",
    "X_resampled, y_resampled = over.fit_resample(X_under, y_under)\n",
    "\n",
    "# Now you can use the resampled data for further processing\n",
    "print(Counter(y_resampled))"
   ],
   "id": "118b1805a5baf789"
  },
  {
   "metadata": {},
   "cell_type": "code",
   "outputs": [],
   "execution_count": null,
   "source": [
    "X_train_fraud = X_train_fraud.astype('float64')\n",
    "X_test_fraud = X_test_fraud.astype('float64')"
   ],
   "id": "55cc93ce59d878b"
  },
  {
   "metadata": {},
   "cell_type": "code",
   "outputs": [],
   "execution_count": null,
   "source": [
    "# Train and evaluate Logistic Regression model\n",
    "with mlflow.start_run(run_name=\"Logistic Regression - Fraud Data\"):\n",
    "    logistic_model = LogisticRegression(max_iter=1000, solver='lbfgs', class_weight='balanced')\n",
    "\n",
    "    logistic_model.fit(X_resampled, y_resampled)  # Train on resampled training data\n",
    "\n",
    "    y_pred_fraud = logistic_model.predict(X_test)  # Predict on original test data\n",
    "\n",
    "    # Generate classification report\n",
    "    report_fraud = classification_report(y_test, y_pred_fraud, output_dict=True)\n",
    "    accuracy_fraud = report_fraud['accuracy']\n",
    "\n",
    "    # Log parameters, metrics, and model\n",
    "    mlflow.log_param(\"model\", \"Logistic Regression\")\n",
    "    mlflow.log_metric(\"accuracy\", accuracy_fraud)\n",
    "    mlflow.sklearn.log_model(logistic_model, \"logistic_model_fraud\", input_example=X_test[:5])\n",
    "\n",
    "    # Print classification report\n",
    "    print(\"Logistic Regression - Fraud Data:\\n\", classification_report(y_test, y_pred_fraud))"
   ],
   "id": "f53e282762fadf42"
  },
  {
   "metadata": {},
   "cell_type": "code",
   "outputs": [],
   "execution_count": null,
   "source": [
    "# Train and evaluate Decision Tree model\n",
    "with mlflow.start_run(run_name=\"Decision Tree - Fraud Data\"):\n",
    "    decision_tree_model = DecisionTreeClassifier()\n",
    "\n",
    "    # Ensure feature data is in float64 to avoid MLflow warnings\n",
    "    X_train = X_train.astype('float64')\n",
    "    X_test = X_test.astype('float64')\n",
    "\n",
    "    # Convert integer columns in X_test to float64 to avoid schema enforcement warnings\n",
    "    X_test = X_test.astype('float64')\n",
    "\n",
    "    decision_tree_model.fit(X_train, y_train)  # Train the model\n",
    "    y_pred_fraud = decision_tree_model.predict(X_test)  # Predict on test data\n",
    "\n",
    "    # Generate classification report\n",
    "    report_fraud = classification_report(y_test, y_pred_fraud, output_dict=True)\n",
    "    accuracy_fraud = report_fraud['accuracy']\n",
    "\n",
    "    # Log parameters, metrics, and model\n",
    "    mlflow.log_param(\"model\", \"Decision Tree\")\n",
    "    mlflow.log_metric(\"accuracy\", accuracy_fraud)\n",
    "    mlflow.sklearn.log_model(decision_tree_model, \"decision_tree_model_fraud\", input_example=X_test[:5])\n",
    "\n",
    "    # Print classification report\n",
    "    print(\"Decision Tree - Fraud Data:\\n\", classification_report(y_test, y_pred_fraud))"
   ],
   "id": "fb3e02d2ee2e486b"
  },
  {
   "metadata": {},
   "cell_type": "code",
   "outputs": [],
   "execution_count": null,
   "source": [
    "# Train and evaluate Random Forest model for Fraud_Data.csv\n",
    "with mlflow.start_run(run_name=\"Random Forest - Fraud Data\"):\n",
    "    random_forest_model = RandomForestClassifier(n_estimators=100, random_state=42)\n",
    "    \n",
    "    # Ensure feature data is in float64 to avoid MLflow warnings\n",
    "    X_train_fraud = X_train_fraud.astype('float64')\n",
    "    X_test_fraud = X_test_fraud.astype('float64')\n",
    "\n",
    "    random_forest_model.fit(X_train_fraud, y_train_fraud)\n",
    "    y_pred_fraud = random_forest_model.predict(X_test_fraud)\n",
    "\n",
    "    # Generate classification report\n",
    "    report_fraud = classification_report(y_test_fraud, y_pred_fraud, output_dict=True)\n",
    "    accuracy_fraud = report_fraud['accuracy']\n",
    "\n",
    "    # Log parameters, metrics, and model\n",
    "    mlflow.log_param(\"model\", \"Random Forest\")\n",
    "    mlflow.log_metric(\"accuracy\", accuracy_fraud)\n",
    "    mlflow.sklearn.log_model(random_forest_model, \"random_forest_model_fraud\", input_example=X_test_fraud[:5])\n",
    "\n",
    "    # Print classification report\n",
    "    print(\"Random Forest - Fraud Data:\\n\", classification_report(y_test_fraud, y_pred_fraud))"
   ],
   "id": "66c2c3f5ad4a04a3"
  },
  {
   "metadata": {},
   "cell_type": "code",
   "outputs": [],
   "execution_count": null,
   "source": [
    "# Train and evaluate Gradient Boosting model\n",
    "with mlflow.start_run(run_name=\"Gradient Boosting - Fraud Data\"):\n",
    "    gradient_boosting_model = GradientBoostingClassifier(n_estimators=100, learning_rate=0.1, max_depth=3, random_state=42)\n",
    "\n",
    "    # Ensure feature data is in float64 to avoid MLflow warnings\n",
    "    X_train = X_train.astype('float64')\n",
    "    X_test = X_test.astype('float64')\n",
    "\n",
    "    gradient_boosting_model.fit(X_train, y_train)  # Train the model\n",
    "    y_pred_fraud = gradient_boosting_model.predict(X_test)  # Predict on test data\n",
    "\n",
    "    # Generate classification report\n",
    "    report_fraud = classification_report(y_test, y_pred_fraud, output_dict=True)\n",
    "    accuracy_fraud = report_fraud['accuracy']\n",
    "\n",
    "    # Log parameters, metrics, and model\n",
    "    mlflow.log_param(\"model\", \"Gradient Boosting\")\n",
    "    mlflow.log_metric(\"accuracy\", accuracy_fraud)\n",
    "    mlflow.sklearn.log_model(gradient_boosting_model, \"gradient_boosting_model_fraud\", input_example=X_test[:5])\n",
    "\n",
    "    # Print classification report\n",
    "    print(\"Gradient Boosting - Fraud Data:\\n\", classification_report(y_test, y_pred_fraud))"
   ],
   "id": "caec5d55a998b146"
  },
  {
   "metadata": {},
   "cell_type": "code",
   "outputs": [],
   "execution_count": null,
   "source": [
    "# Train and evaluate MLP model\n",
    "with mlflow.start_run(run_name=\"MLP - Fraud Data\"):\n",
    "    mlp_model = MLPClassifier(hidden_layer_sizes=(100,), max_iter=300, alpha=0.0001, solver='adam', random_state=42)\n",
    "\n",
    "    # Ensure feature data is in float64 to avoid MLflow warnings\n",
    "    X_train = X_train.astype('float64')\n",
    "    X_test = X_test.astype('float64')\n",
    "\n",
    "    mlp_model.fit(X_train, y_train)  # Train the model\n",
    "    y_pred_fraud = mlp_model.predict(X_test)  # Predict on test data\n",
    "\n",
    "    # Generate classification report\n",
    "    report_fraud = classification_report(y_test, y_pred_fraud, output_dict=True)\n",
    "    accuracy_fraud = report_fraud['accuracy']\n",
    "\n",
    "    # Log parameters, metrics, and model\n",
    "    mlflow.log_param(\"model\", \"MLP\")\n",
    "    mlflow.log_metric(\"accuracy\", accuracy_fraud)\n",
    "    mlflow.sklearn.log_model(mlp_model, \"mlp_model_fraud\", input_example=X_test[:5])\n",
    "\n",
    "    # Print classification report\n",
    "    print(\"MLP - Fraud Data:\\n\", classification_report(y_test, y_pred_fraud))"
   ],
   "id": "a82253d701a3d271"
  },
  {
   "metadata": {},
   "cell_type": "code",
   "outputs": [],
   "execution_count": null,
   "source": [
    "# Define the path to save the model\n",
    "model_folder = \"models\"\n",
    "if not os.path.exists(model_folder):\n",
    "    os.makedirs(model_folder)\n",
    "\n",
    "model_path = os.path.join(model_folder, \"random_forest_model_fraud.pkl\")\n",
    "\n",
    "# Save the model\n",
    "joblib.dump(random_forest_model, model_path)\n",
    "\n",
    "print(f\"Model saved at: {model_path}\")"
   ],
   "id": "d9b8b44510ebcb7f"
  }
 ],
 "metadata": {
  "kernelspec": {
   "display_name": "Python 3",
   "language": "python",
   "name": "python3"
  },
  "language_info": {
   "codemirror_mode": {
    "name": "ipython",
    "version": 2
   },
   "file_extension": ".py",
   "mimetype": "text/x-python",
   "name": "python",
   "nbconvert_exporter": "python",
   "pygments_lexer": "ipython2",
   "version": "2.7.6"
  }
 },
 "nbformat": 4,
 "nbformat_minor": 5
}
